{
 "cells": [
  {
   "cell_type": "markdown",
   "metadata": {},
   "source": [
    "# AutoKeras Analyzer API example\n",
    "\n",
    "This notebook demonstrates the features of an Analyzer for [AutoKeras](https://www.autokeras.com/), which you can find in the module [ak_utils.py](https://github.com/ceesroele/ak_searchspace/blob/main/ak_utils.py).\n",
    "\n",
    "These issue the Analyzer seeks to address are:\n",
    "* AutoKeras not delivering a report on the models it has probed. It effectively acts as a block box, just returning a \"best model\".\n",
    "* Third-party tools like [TensorBoard](https://www.tensorflow.org/tensorboard) and [TRAINS](https://github.com/allegroai/trains) being more suitable for training individual models than for dealing with different types of models.\n",
    "\n",
    "While the latter tools effectively monitor the generate-and-evaluate process of AutoKeras, the current Analyzer acts only after the process is completed. It reports on the files the AutoKeras generates."
   ]
  },
  {
   "cell_type": "markdown",
   "metadata": {},
   "source": [
    "## Imports"
   ]
  },
  {
   "cell_type": "code",
   "execution_count": 1,
   "metadata": {},
   "outputs": [],
   "source": [
    "from IPython.core.display import HTML, display\n",
    "from ak_utils import Analyzer"
   ]
  },
  {
   "cell_type": "markdown",
   "metadata": {},
   "source": [
    "## Analyzer class\n",
    "\n",
    "Let's see what methods the `Analyzer` class makes available:"
   ]
  },
  {
   "cell_type": "code",
   "execution_count": 2,
   "metadata": {},
   "outputs": [
    {
     "name": "stdout",
     "output_type": "stream",
     "text": [
      "Help on class Analyzer in module ak_utils:\n",
      "\n",
      "class Analyzer(builtins.object)\n",
      " |  Analyzer(project_name=None, dir='.')\n",
      " |  \n",
      " |  Display results in Jupyter notebook\n",
      " |  \n",
      " |  Methods defined here:\n",
      " |  \n",
      " |  __init__(self, project_name=None, dir='.')\n",
      " |      Initialize self.  See help(type(self)) for accurate signature.\n",
      " |  \n",
      " |  dataframe_trials(self, metric='val_accuracy', with_reference=False)\n",
      " |  \n",
      " |  display_search_space(self, architecture_type=None)\n",
      " |  \n",
      " |  plot_best_step(self, block_type=None)\n",
      " |  \n",
      " |  plot_count_per_architecture_type(self)\n",
      " |  \n",
      " |  plot_trial_run(self, trial_id=None, auto_trial=False)\n",
      " |      validation_accuracy per epoch\n",
      " |      \n",
      " |      If no arguments are given, the best trial for each architecture type will be given. If a reference\n",
      " |      trial exists, that will also be displayed.\n",
      " |      \n",
      " |      parameters:\n",
      " |        trial_id: plot only for this `trial_id`\n",
      " |        auto_trial: every time the Jupyter cell is executed again, a new trial will be displayed\n",
      " |  \n",
      " |  plot_trials_over_time(self)\n",
      " |  \n",
      " |  summary(self)\n",
      " |  \n",
      " |  ----------------------------------------------------------------------\n",
      " |  Data descriptors defined here:\n",
      " |  \n",
      " |  __dict__\n",
      " |      dictionary for instance variables (if defined)\n",
      " |  \n",
      " |  __weakref__\n",
      " |      list of weak references to the object (if defined)\n",
      "\n"
     ]
    }
   ],
   "source": [
    "help(Analyzer)"
   ]
  },
  {
   "cell_type": "markdown",
   "metadata": {},
   "source": [
    "## Initialization\n",
    "\n",
    "Let's initialize the `Analyzer`:\n",
    "* `project_name` - same as used for AutoKeras, defining the directory under which trial data is stored\n",
    "* `dir` - directory in which to locate `project_name`. If not set, `.` will be used. Allows you to run Jupyter in one directory and AutoKeras in another.\n",
    "\n",
    "The `project_name` values I use here refer to AutoKeras runs I have done myself. Here If you want to run this notebook, download it and define the `program_name` settings for your own projects!"
   ]
  },
  {
   "cell_type": "code",
   "execution_count": null,
   "metadata": {},
   "outputs": [],
   "source": []
  },
  {
   "cell_type": "code",
   "execution_count": 3,
   "metadata": {},
   "outputs": [],
   "source": [
    "aview = Analyzer(project_name='text_classifier_greedy', dir='.')"
   ]
  },
  {
   "cell_type": "markdown",
   "metadata": {},
   "source": [
    "And see a summary of the data it has found:"
   ]
  },
  {
   "cell_type": "code",
   "execution_count": 4,
   "metadata": {},
   "outputs": [
    {
     "data": {
      "text/plain": [
       "\"3 architecture types: ['vanilla', 'transformer', 'bert'], 4 trials, 3 epochs\""
      ]
     },
     "execution_count": 4,
     "metadata": {},
     "output_type": "execute_result"
    }
   ],
   "source": [
    "aview.summary()"
   ]
  },
  {
   "cell_type": "markdown",
   "metadata": {},
   "source": [
    "How should we read this?\n",
    "\n",
    "1. The search space for models included three types of architectures:\n",
    "   * `vanilla` - standard approach (LSTM)\n",
    "   * `transformer` - \"new\" transformer based architecture\n",
    "   * `bert` - pre-configured and pre-trained models, \"transfer learning\"\n",
    "2. Four trials have been done, that is, four models have been generated and evaluated (only four, really a test)\n",
    "3. These models have been trained for (maximal) three epochs."
   ]
  },
  {
   "cell_type": "markdown",
   "metadata": {},
   "source": [
    "## Mapping the search space\n",
    "\n",
    "Out of sight and control of the user, AutoKeras spans up a search space of \"blocks\" and \"hyperparameters\".\n",
    "AutoKeras traverses the search space of possible architectures by changing at least one hyperparameter and then generating and testing a new model.\n",
    "\n",
    "We can find the information on the search space ourselves by browsing the file `oracle.json`. Set the correct `program_name` yourself.\n",
    "\n",
    "```bash\n",
    "cat ${program_name}/oracle.json | python -m json.tool | less\n",
    "```\n",
    "\n",
    "Below you see a presentation of that data, but restricted to the architecture typ of `transformer`. \n",
    "Hyperparameters affecting models can be separated in those that are specific for the architecture, e.g. \n",
    "type of `pretraining` for the transformer architecture, and those that affect all architectures, which I call here `generic`.\n",
    "\n",
    "Behind the hyperparameters you see a list of their possible values and in red the default value. "
   ]
  },
  {
   "cell_type": "code",
   "execution_count": 5,
   "metadata": {},
   "outputs": [
    {
     "data": {
      "text/html": [
       "<h3>generic</h3>"
      ],
      "text/plain": [
       "<IPython.core.display.HTML object>"
      ]
     },
     "metadata": {},
     "output_type": "display_data"
    },
    {
     "data": {
      "text/html": [
       "{<div style=\"margin-left: 1em\"><span style='font-style: italic; color: #888'>text_block_1</span>: {<div style=\"margin-left: 2em\"><span style='font-style: italic; color: #888'>block_type</span>: [<text style=\"color:red\">vanilla</text>, transformer, ngram, bert]</div>},<br><span style='font-style: italic; color: #888'>classification_head_1</span>: {<div style=\"margin-left: 2em\"><span style='font-style: italic; color: #888'>dropout</span>: [<text style=\"color:red\">0.0</text>, 0.25, 0.5]</div>},<br><span style='font-style: italic; color: #888'>optimizer</span>: [<text style=\"color:red\">adam</text>, sgd, adam_weight_decay],<br><span style='font-style: italic; color: #888'>learning_rate</span>: [0.1, 0.01, <text style=\"color:red\">0.001</text>, 0.0001, 2e-05, 1e-05]</div>}"
      ],
      "text/plain": [
       "<IPython.core.display.HTML object>"
      ]
     },
     "metadata": {},
     "output_type": "display_data"
    },
    {
     "data": {
      "text/html": [
       "<h3>transformer</h3>"
      ],
      "text/plain": [
       "<IPython.core.display.HTML object>"
      ]
     },
     "metadata": {},
     "output_type": "display_data"
    },
    {
     "data": {
      "text/html": [
       "{<div style=\"margin-left: 1em\"><span style='font-style: italic; color: #888'>text_block_1</span>: {<div style=\"margin-left: 2em\"><span style='font-style: italic; color: #888'>max_tokens</span>: [500, <text style=\"color:red\">5000</text>, 20000],<br><span style='font-style: italic; color: #888'>text_to_int_sequence_1</span>: {<div style=\"margin-left: 3em\"><span style='font-style: italic; color: #888'>output_sequence_length</span>: [<text style=\"color:red\">64</text>, 128, 256, 512]</div>},<br><span style='font-style: italic; color: #888'>transformer_1</span>: {<div style=\"margin-left: 3em\"><span style='font-style: italic; color: #888'>pretraining</span>: [random, glove, fasttext, word2vec, <text style=\"color:red\">none</text>],<br><span style='font-style: italic; color: #888'>embedding_dim</span>: [32, 64, <text style=\"color:red\">128</text>, 256, 512],<br><span style='font-style: italic; color: #888'>num_heads</span>: [<text style=\"color:red\">8</text>, 16, 32],<br><span style='font-style: italic; color: #888'>dense_dim</span>: [128, 256, 512, 1024, <text style=\"color:red\">2048</text>],<br><span style='font-style: italic; color: #888'>dropout</span>: [<text style=\"color:red\">0.0</text>, 0.25, 0.5]</div>},<br><span style='font-style: italic; color: #888'>spatial_reduction_1</span>: {<div style=\"margin-left: 3em\"><span style='font-style: italic; color: #888'>reduction_type</span>: [<text style=\"color:red\">flatten</text>, global_max, global_avg]</div>},<br><span style='font-style: italic; color: #888'>dense_block_1</span>: {<div style=\"margin-left: 3em\"><span style='font-style: italic; color: #888'>num_layers</span>: [1, <text style=\"color:red\">2</text>, 3],<br><span style='font-style: italic; color: #888'>use_batchnorm</span>: [True, <text style=\"color:red\">False</text>],<br><span style='font-style: italic; color: #888'>dropout</span>: [<text style=\"color:red\">0.0</text>, 0.25, 0.5],<br><span style='font-style: italic; color: #888'>units_0</span>: [16, <text style=\"color:red\">32</text>, 64, 128, 256, 512, 1024]</div>}</div>}</div>}"
      ],
      "text/plain": [
       "<IPython.core.display.HTML object>"
      ]
     },
     "metadata": {},
     "output_type": "display_data"
    }
   ],
   "source": [
    "aview.display_search_space(architecture_type='transformer')"
   ]
  },
  {
   "cell_type": "markdown",
   "metadata": {},
   "source": [
    "## Search space per architecture\n",
    "\n",
    "We have seen that:\n",
    "* There are different architectures\n",
    "* The hyperparameters that span up the search space vary per architecture\n",
    "\n",
    "Ignoring some dependencies, we can now see that our AutoKeras search space consists for the most part\n",
    "of options for the `vanilla` architecture."
   ]
  },
  {
   "cell_type": "code",
   "execution_count": 6,
   "metadata": {},
   "outputs": [
    {
     "data": {
      "text/plain": [
       "<matplotlib.axes._subplots.AxesSubplot at 0x7f3a11875550>"
      ]
     },
     "execution_count": 6,
     "metadata": {},
     "output_type": "execute_result"
    },
    {
     "data": {
      "image/png": "[encoded data removed]",
      "text/plain": [
       "<Figure size 432x288 with 1 Axes>"
      ]
     },
     "metadata": {},
     "output_type": "display_data"
    }
   ],
   "source": [
    "aview.plot_count_per_architecture_type()"
   ]
  },
  {
   "cell_type": "markdown",
   "metadata": {},
   "source": [
    "Above we see that the `bert` architecture takes up only four percent of the search space.\n",
    "\n",
    "Let's check out the hyperparameters for `bert`."
   ]
  },
  {
   "cell_type": "code",
   "execution_count": 7,
   "metadata": {},
   "outputs": [
    {
     "data": {
      "text/html": [
       "<h3>generic</h3>"
      ],
      "text/plain": [
       "<IPython.core.display.HTML object>"
      ]
     },
     "metadata": {},
     "output_type": "display_data"
    },
    {
     "data": {
      "text/html": [
       "{<div style=\"margin-left: 1em\"><span style='font-style: italic; color: #888'>text_block_1</span>: {<div style=\"margin-left: 2em\"><span style='font-style: italic; color: #888'>block_type</span>: [<text style=\"color:red\">vanilla</text>, transformer, ngram, bert]</div>},<br><span style='font-style: italic; color: #888'>classification_head_1</span>: {<div style=\"margin-left: 2em\"><span style='font-style: italic; color: #888'>dropout</span>: [<text style=\"color:red\">0.0</text>, 0.25, 0.5]</div>},<br><span style='font-style: italic; color: #888'>optimizer</span>: [<text style=\"color:red\">adam</text>, sgd, adam_weight_decay],<br><span style='font-style: italic; color: #888'>learning_rate</span>: [0.1, 0.01, <text style=\"color:red\">0.001</text>, 0.0001, 2e-05, 1e-05]</div>}"
      ],
      "text/plain": [
       "<IPython.core.display.HTML object>"
      ]
     },
     "metadata": {},
     "output_type": "display_data"
    },
    {
     "data": {
      "text/html": [
       "<h3>bert</h3>"
      ],
      "text/plain": [
       "<IPython.core.display.HTML object>"
      ]
     },
     "metadata": {},
     "output_type": "display_data"
    },
    {
     "data": {
      "text/html": [
       "{<div style=\"margin-left: 1em\"><span style='font-style: italic; color: #888'>text_block_1</span>: {<div style=\"margin-left: 2em\"><span style='font-style: italic; color: #888'>max_tokens</span>: [500, <text style=\"color:red\">5000</text>, 20000],<br><span style='font-style: italic; color: #888'>bert_block_1</span>: {<div style=\"margin-left: 3em\"><span style='font-style: italic; color: #888'>max_seq_len</span>: [<text style=\"color:red\">128</text>, 256, 512]</div>}</div>}</div>}"
      ],
      "text/plain": [
       "<IPython.core.display.HTML object>"
      ]
     },
     "metadata": {},
     "output_type": "display_data"
    }
   ],
   "source": [
    "aview.display_search_space(architecture_type='bert')"
   ]
  },
  {
   "cell_type": "markdown",
   "metadata": {},
   "source": [
    "We see that there are only six possible parameter values specific to `bert` and belonging to two variables.\n",
    "`dropout`, `optimizer`, and `learning_rate` can still be changed.\n",
    "\n",
    "I don't want to get distracted by drawing conclusions, but this certainly looks a bit strange."
   ]
  },
  {
   "cell_type": "markdown",
   "metadata": {},
   "source": [
    "## Trials\n",
    "\n",
    "Now, let's look at actual trials. With the following call we get all hyperparameter settings and all\n",
    "results per epoch for all trials."
   ]
  },
  {
   "cell_type": "code",
   "execution_count": 8,
   "metadata": {},
   "outputs": [
    {
     "data": {
      "text/html": [
       "<div>\n",
       "<style scoped>\n",
       "    .dataframe tbody tr th:only-of-type {\n",
       "        vertical-align: middle;\n",
       "    }\n",
       "\n",
       "    .dataframe tbody tr th {\n",
       "        vertical-align: top;\n",
       "    }\n",
       "\n",
       "    .dataframe thead th {\n",
       "        text-align: right;\n",
       "    }\n",
       "</style>\n",
       "<table border=\"1\" class=\"dataframe\">\n",
       "  <thead>\n",
       "    <tr style=\"text-align: right;\">\n",
       "      <th></th>\n",
       "      <th>text_block_1/block_type</th>\n",
       "      <th>classification_head_1/dropout</th>\n",
       "      <th>optimizer</th>\n",
       "      <th>learning_rate</th>\n",
       "      <th>text_block_1/max_tokens</th>\n",
       "      <th>text_block_1/bert_block_1/max_seq_len</th>\n",
       "      <th>block_type</th>\n",
       "      <th>trial_id</th>\n",
       "      <th>best_step</th>\n",
       "      <th>max_val_accuracy</th>\n",
       "      <th>...</th>\n",
       "      <th>text_block_1/spatial_reduction_1/reduction_type</th>\n",
       "      <th>text_block_1/dense_block_1/num_layers</th>\n",
       "      <th>text_block_1/dense_block_1/use_batchnorm</th>\n",
       "      <th>text_block_1/dense_block_1/dropout</th>\n",
       "      <th>text_block_1/dense_block_1/units_0</th>\n",
       "      <th>text_block_1/transformer_1/pretraining</th>\n",
       "      <th>text_block_1/transformer_1/embedding_dim</th>\n",
       "      <th>text_block_1/transformer_1/num_heads</th>\n",
       "      <th>text_block_1/transformer_1/dense_dim</th>\n",
       "      <th>text_block_1/transformer_1/dropout</th>\n",
       "    </tr>\n",
       "  </thead>\n",
       "  <tbody>\n",
       "    <tr>\n",
       "      <th>3</th>\n",
       "      <td>bert</td>\n",
       "      <td>0.0</td>\n",
       "      <td>adam_weight_decay</td>\n",
       "      <td>0.00002</td>\n",
       "      <td>20000</td>\n",
       "      <td>512.0</td>\n",
       "      <td>bert</td>\n",
       "      <td>856246e20a0d5a4875bd63e11ad38386</td>\n",
       "      <td>0</td>\n",
       "      <td>0.613095</td>\n",
       "      <td>...</td>\n",
       "      <td>None</td>\n",
       "      <td>NaN</td>\n",
       "      <td>None</td>\n",
       "      <td>NaN</td>\n",
       "      <td>NaN</td>\n",
       "      <td>None</td>\n",
       "      <td>NaN</td>\n",
       "      <td>NaN</td>\n",
       "      <td>NaN</td>\n",
       "      <td>NaN</td>\n",
       "    </tr>\n",
       "    <tr>\n",
       "      <th>2</th>\n",
       "      <td>transformer</td>\n",
       "      <td>0.0</td>\n",
       "      <td>adam</td>\n",
       "      <td>0.00100</td>\n",
       "      <td>20000</td>\n",
       "      <td>NaN</td>\n",
       "      <td>transformer</td>\n",
       "      <td>94f894d991d5316766799d8ef7b52b26</td>\n",
       "      <td>2</td>\n",
       "      <td>0.523810</td>\n",
       "      <td>...</td>\n",
       "      <td>global_avg</td>\n",
       "      <td>1.0</td>\n",
       "      <td>False</td>\n",
       "      <td>0.5</td>\n",
       "      <td>20.0</td>\n",
       "      <td>none</td>\n",
       "      <td>32.0</td>\n",
       "      <td>2.0</td>\n",
       "      <td>32.0</td>\n",
       "      <td>0.25</td>\n",
       "    </tr>\n",
       "    <tr>\n",
       "      <th>1</th>\n",
       "      <td>vanilla</td>\n",
       "      <td>0.0</td>\n",
       "      <td>adam</td>\n",
       "      <td>0.00100</td>\n",
       "      <td>5000</td>\n",
       "      <td>NaN</td>\n",
       "      <td>vanilla</td>\n",
       "      <td>214214432b1631914237a17fe94b8f36</td>\n",
       "      <td>2</td>\n",
       "      <td>0.517857</td>\n",
       "      <td>...</td>\n",
       "      <td>global_max</td>\n",
       "      <td>1.0</td>\n",
       "      <td>False</td>\n",
       "      <td>0.5</td>\n",
       "      <td>256.0</td>\n",
       "      <td>None</td>\n",
       "      <td>NaN</td>\n",
       "      <td>NaN</td>\n",
       "      <td>NaN</td>\n",
       "      <td>NaN</td>\n",
       "    </tr>\n",
       "    <tr>\n",
       "      <th>0</th>\n",
       "      <td>bert</td>\n",
       "      <td>0.5</td>\n",
       "      <td>sgd</td>\n",
       "      <td>0.00010</td>\n",
       "      <td>5000</td>\n",
       "      <td>128.0</td>\n",
       "      <td>bert</td>\n",
       "      <td>3076596639421dc39a34495eda7b2dd5</td>\n",
       "      <td>2</td>\n",
       "      <td>0.434524</td>\n",
       "      <td>...</td>\n",
       "      <td>None</td>\n",
       "      <td>NaN</td>\n",
       "      <td>None</td>\n",
       "      <td>NaN</td>\n",
       "      <td>NaN</td>\n",
       "      <td>None</td>\n",
       "      <td>NaN</td>\n",
       "      <td>NaN</td>\n",
       "      <td>NaN</td>\n",
       "      <td>NaN</td>\n",
       "    </tr>\n",
       "  </tbody>\n",
       "</table>\n",
       "<p>4 rows × 37 columns</p>\n",
       "</div>"
      ],
      "text/plain": [
       "  text_block_1/block_type  classification_head_1/dropout          optimizer  \\\n",
       "3                    bert                            0.0  adam_weight_decay   \n",
       "2             transformer                            0.0               adam   \n",
       "1                 vanilla                            0.0               adam   \n",
       "0                    bert                            0.5                sgd   \n",
       "\n",
       "   learning_rate  text_block_1/max_tokens  \\\n",
       "3        0.00002                    20000   \n",
       "2        0.00100                    20000   \n",
       "1        0.00100                     5000   \n",
       "0        0.00010                     5000   \n",
       "\n",
       "   text_block_1/bert_block_1/max_seq_len   block_type  \\\n",
       "3                                  512.0         bert   \n",
       "2                                    NaN  transformer   \n",
       "1                                    NaN      vanilla   \n",
       "0                                  128.0         bert   \n",
       "\n",
       "                           trial_id  best_step  max_val_accuracy  ...  \\\n",
       "3  856246e20a0d5a4875bd63e11ad38386          0          0.613095  ...   \n",
       "2  94f894d991d5316766799d8ef7b52b26          2          0.523810  ...   \n",
       "1  214214432b1631914237a17fe94b8f36          2          0.517857  ...   \n",
       "0  3076596639421dc39a34495eda7b2dd5          2          0.434524  ...   \n",
       "\n",
       "  text_block_1/spatial_reduction_1/reduction_type  \\\n",
       "3                                            None   \n",
       "2                                      global_avg   \n",
       "1                                      global_max   \n",
       "0                                            None   \n",
       "\n",
       "   text_block_1/dense_block_1/num_layers  \\\n",
       "3                                    NaN   \n",
       "2                                    1.0   \n",
       "1                                    1.0   \n",
       "0                                    NaN   \n",
       "\n",
       "   text_block_1/dense_block_1/use_batchnorm  \\\n",
       "3                                      None   \n",
       "2                                     False   \n",
       "1                                     False   \n",
       "0                                      None   \n",
       "\n",
       "   text_block_1/dense_block_1/dropout  text_block_1/dense_block_1/units_0  \\\n",
       "3                                 NaN                                 NaN   \n",
       "2                                 0.5                                20.0   \n",
       "1                                 0.5                               256.0   \n",
       "0                                 NaN                                 NaN   \n",
       "\n",
       "  text_block_1/transformer_1/pretraining  \\\n",
       "3                                   None   \n",
       "2                                   none   \n",
       "1                                   None   \n",
       "0                                   None   \n",
       "\n",
       "  text_block_1/transformer_1/embedding_dim  \\\n",
       "3                                      NaN   \n",
       "2                                     32.0   \n",
       "1                                      NaN   \n",
       "0                                      NaN   \n",
       "\n",
       "   text_block_1/transformer_1/num_heads text_block_1/transformer_1/dense_dim  \\\n",
       "3                                   NaN                                  NaN   \n",
       "2                                   2.0                                 32.0   \n",
       "1                                   NaN                                  NaN   \n",
       "0                                   NaN                                  NaN   \n",
       "\n",
       "   text_block_1/transformer_1/dropout  \n",
       "3                                 NaN  \n",
       "2                                0.25  \n",
       "1                                 NaN  \n",
       "0                                 NaN  \n",
       "\n",
       "[4 rows x 37 columns]"
      ]
     },
     "execution_count": 8,
     "metadata": {},
     "output_type": "execute_result"
    }
   ],
   "source": [
    "df = aview.dataframe_trials()\n",
    "df.head()"
   ]
  },
  {
   "cell_type": "code",
   "execution_count": 9,
   "metadata": {},
   "outputs": [],
   "source": [
    "aview.plot_trial_run()"
   ]
  },
  {
   "cell_type": "markdown",
   "metadata": {},
   "source": [
    "## For images: Architecture versions\n",
    "\n",
    "When using a ResNet model a version is set. As the different ResNet versions are fundamentally different, we want to treat them as separate architectures.\n",
    "\n",
    "Let's first redirect our analyzer to an AutoKeras run done by me on image classification."
   ]
  },
  {
   "cell_type": "code",
   "execution_count": 10,
   "metadata": {},
   "outputs": [],
   "source": [
    "aview = Analyzer(project_name='image_classifier_greedy', dir='.')"
   ]
  },
  {
   "cell_type": "markdown",
   "metadata": {},
   "source": [
    "For this reason we create a new column `versioned_block_type` which in the case of ResNet contains the version and in all other cases the `block_type`."
   ]
  },
  {
   "cell_type": "code",
   "execution_count": 11,
   "metadata": {},
   "outputs": [
    {
     "data": {
      "text/html": [
       "<div>\n",
       "<style scoped>\n",
       "    .dataframe tbody tr th:only-of-type {\n",
       "        vertical-align: middle;\n",
       "    }\n",
       "\n",
       "    .dataframe tbody tr th {\n",
       "        vertical-align: top;\n",
       "    }\n",
       "\n",
       "    .dataframe thead th {\n",
       "        text-align: right;\n",
       "    }\n",
       "</style>\n",
       "<table border=\"1\" class=\"dataframe\">\n",
       "  <thead>\n",
       "    <tr style=\"text-align: right;\">\n",
       "      <th></th>\n",
       "      <th>size</th>\n",
       "      <th>max_val_accuracy</th>\n",
       "      <th>versioned_block_type</th>\n",
       "    </tr>\n",
       "  </thead>\n",
       "  <tbody>\n",
       "    <tr>\n",
       "      <th>15</th>\n",
       "      <td>250244517</td>\n",
       "      <td>0.990582</td>\n",
       "      <td>xception</td>\n",
       "    </tr>\n",
       "    <tr>\n",
       "      <th>28</th>\n",
       "      <td>250247885</td>\n",
       "      <td>0.988870</td>\n",
       "      <td>xception</td>\n",
       "    </tr>\n",
       "    <tr>\n",
       "      <th>17</th>\n",
       "      <td>250244992</td>\n",
       "      <td>0.987158</td>\n",
       "      <td>xception</td>\n",
       "    </tr>\n",
       "    <tr>\n",
       "      <th>41</th>\n",
       "      <td>250244517</td>\n",
       "      <td>0.986301</td>\n",
       "      <td>xception</td>\n",
       "    </tr>\n",
       "    <tr>\n",
       "      <th>33</th>\n",
       "      <td>262040997</td>\n",
       "      <td>0.985445</td>\n",
       "      <td>xception</td>\n",
       "    </tr>\n",
       "    <tr>\n",
       "      <th>13</th>\n",
       "      <td>250244517</td>\n",
       "      <td>0.984589</td>\n",
       "      <td>xception</td>\n",
       "    </tr>\n",
       "    <tr>\n",
       "      <th>39</th>\n",
       "      <td>262041014</td>\n",
       "      <td>0.983733</td>\n",
       "      <td>xception</td>\n",
       "    </tr>\n",
       "    <tr>\n",
       "      <th>43</th>\n",
       "      <td>262040997</td>\n",
       "      <td>0.982877</td>\n",
       "      <td>xception</td>\n",
       "    </tr>\n",
       "    <tr>\n",
       "      <th>14</th>\n",
       "      <td>250244517</td>\n",
       "      <td>0.982877</td>\n",
       "      <td>xception</td>\n",
       "    </tr>\n",
       "    <tr>\n",
       "      <th>31</th>\n",
       "      <td>250244517</td>\n",
       "      <td>0.982021</td>\n",
       "      <td>xception</td>\n",
       "    </tr>\n",
       "    <tr>\n",
       "      <th>32</th>\n",
       "      <td>250244534</td>\n",
       "      <td>0.982021</td>\n",
       "      <td>xception</td>\n",
       "    </tr>\n",
       "    <tr>\n",
       "      <th>6</th>\n",
       "      <td>282998949</td>\n",
       "      <td>0.981164</td>\n",
       "      <td>resnet50</td>\n",
       "    </tr>\n",
       "    <tr>\n",
       "      <th>24</th>\n",
       "      <td>250244517</td>\n",
       "      <td>0.976884</td>\n",
       "      <td>xception</td>\n",
       "    </tr>\n",
       "    <tr>\n",
       "      <th>12</th>\n",
       "      <td>282998966</td>\n",
       "      <td>0.976027</td>\n",
       "      <td>resnet50</td>\n",
       "    </tr>\n",
       "    <tr>\n",
       "      <th>38</th>\n",
       "      <td>511195291</td>\n",
       "      <td>0.974315</td>\n",
       "      <td>resnet101_v2</td>\n",
       "    </tr>\n",
       "    <tr>\n",
       "      <th>16</th>\n",
       "      <td>282766313</td>\n",
       "      <td>0.974315</td>\n",
       "      <td>resnet50_v2</td>\n",
       "    </tr>\n",
       "    <tr>\n",
       "      <th>25</th>\n",
       "      <td>250244517</td>\n",
       "      <td>0.974315</td>\n",
       "      <td>xception</td>\n",
       "    </tr>\n",
       "    <tr>\n",
       "      <th>9</th>\n",
       "      <td>282998949</td>\n",
       "      <td>0.973459</td>\n",
       "      <td>resnet50</td>\n",
       "    </tr>\n",
       "    <tr>\n",
       "      <th>19</th>\n",
       "      <td>250244534</td>\n",
       "      <td>0.972603</td>\n",
       "      <td>xception</td>\n",
       "    </tr>\n",
       "    <tr>\n",
       "      <th>40</th>\n",
       "      <td>250244517</td>\n",
       "      <td>0.972603</td>\n",
       "      <td>xception</td>\n",
       "    </tr>\n",
       "    <tr>\n",
       "      <th>22</th>\n",
       "      <td>250244517</td>\n",
       "      <td>0.972603</td>\n",
       "      <td>xception</td>\n",
       "    </tr>\n",
       "    <tr>\n",
       "      <th>2</th>\n",
       "      <td>282998949</td>\n",
       "      <td>0.972603</td>\n",
       "      <td>resnet50</td>\n",
       "    </tr>\n",
       "    <tr>\n",
       "      <th>5</th>\n",
       "      <td>282998949</td>\n",
       "      <td>0.970034</td>\n",
       "      <td>resnet50</td>\n",
       "    </tr>\n",
       "    <tr>\n",
       "      <th>29</th>\n",
       "      <td>250244534</td>\n",
       "      <td>0.970034</td>\n",
       "      <td>xception</td>\n",
       "    </tr>\n",
       "    <tr>\n",
       "      <th>37</th>\n",
       "      <td>250245146</td>\n",
       "      <td>0.968322</td>\n",
       "      <td>xception</td>\n",
       "    </tr>\n",
       "    <tr>\n",
       "      <th>36</th>\n",
       "      <td>250244976</td>\n",
       "      <td>0.968322</td>\n",
       "      <td>xception</td>\n",
       "    </tr>\n",
       "    <tr>\n",
       "      <th>0</th>\n",
       "      <td>282998949</td>\n",
       "      <td>0.968322</td>\n",
       "      <td>resnet50</td>\n",
       "    </tr>\n",
       "    <tr>\n",
       "      <th>46</th>\n",
       "      <td>262041014</td>\n",
       "      <td>0.966610</td>\n",
       "      <td>xception</td>\n",
       "    </tr>\n",
       "    <tr>\n",
       "      <th>10</th>\n",
       "      <td>282998949</td>\n",
       "      <td>0.966610</td>\n",
       "      <td>resnet50</td>\n",
       "    </tr>\n",
       "    <tr>\n",
       "      <th>7</th>\n",
       "      <td>282999425</td>\n",
       "      <td>0.964897</td>\n",
       "      <td>resnet50</td>\n",
       "    </tr>\n",
       "    <tr>\n",
       "      <th>23</th>\n",
       "      <td>345690</td>\n",
       "      <td>0.964041</td>\n",
       "      <td>vanilla</td>\n",
       "    </tr>\n",
       "    <tr>\n",
       "      <th>21</th>\n",
       "      <td>250244686</td>\n",
       "      <td>0.963185</td>\n",
       "      <td>xception</td>\n",
       "    </tr>\n",
       "    <tr>\n",
       "      <th>27</th>\n",
       "      <td>83569257</td>\n",
       "      <td>0.960616</td>\n",
       "      <td>xception</td>\n",
       "    </tr>\n",
       "    <tr>\n",
       "      <th>45</th>\n",
       "      <td>170982810</td>\n",
       "      <td>0.960616</td>\n",
       "      <td>resnet101</td>\n",
       "    </tr>\n",
       "    <tr>\n",
       "      <th>34</th>\n",
       "      <td>250244534</td>\n",
       "      <td>0.957192</td>\n",
       "      <td>xception</td>\n",
       "    </tr>\n",
       "    <tr>\n",
       "      <th>42</th>\n",
       "      <td>282998949</td>\n",
       "      <td>0.954623</td>\n",
       "      <td>resnet50</td>\n",
       "    </tr>\n",
       "    <tr>\n",
       "      <th>44</th>\n",
       "      <td>250244994</td>\n",
       "      <td>0.948630</td>\n",
       "      <td>xception</td>\n",
       "    </tr>\n",
       "    <tr>\n",
       "      <th>26</th>\n",
       "      <td>250244670</td>\n",
       "      <td>0.948630</td>\n",
       "      <td>xception</td>\n",
       "    </tr>\n",
       "    <tr>\n",
       "      <th>4</th>\n",
       "      <td>282999103</td>\n",
       "      <td>0.946918</td>\n",
       "      <td>resnet50</td>\n",
       "    </tr>\n",
       "    <tr>\n",
       "      <th>47</th>\n",
       "      <td>170682311</td>\n",
       "      <td>0.930651</td>\n",
       "      <td>resnet101_v2</td>\n",
       "    </tr>\n",
       "    <tr>\n",
       "      <th>30</th>\n",
       "      <td>83733806</td>\n",
       "      <td>0.928938</td>\n",
       "      <td>xception</td>\n",
       "    </tr>\n",
       "    <tr>\n",
       "      <th>8</th>\n",
       "      <td>94650008</td>\n",
       "      <td>0.923801</td>\n",
       "      <td>resnet50</td>\n",
       "    </tr>\n",
       "    <tr>\n",
       "      <th>18</th>\n",
       "      <td>250244840</td>\n",
       "      <td>0.922089</td>\n",
       "      <td>xception</td>\n",
       "    </tr>\n",
       "    <tr>\n",
       "      <th>3</th>\n",
       "      <td>94650008</td>\n",
       "      <td>0.919521</td>\n",
       "      <td>resnet50</td>\n",
       "    </tr>\n",
       "    <tr>\n",
       "      <th>35</th>\n",
       "      <td>250244823</td>\n",
       "      <td>0.918664</td>\n",
       "      <td>xception</td>\n",
       "    </tr>\n",
       "    <tr>\n",
       "      <th>11</th>\n",
       "      <td>94485459</td>\n",
       "      <td>0.903253</td>\n",
       "      <td>resnet50</td>\n",
       "    </tr>\n",
       "    <tr>\n",
       "      <th>20</th>\n",
       "      <td>83733806</td>\n",
       "      <td>0.881849</td>\n",
       "      <td>xception</td>\n",
       "    </tr>\n",
       "    <tr>\n",
       "      <th>1</th>\n",
       "      <td>282998949</td>\n",
       "      <td>0.670377</td>\n",
       "      <td>resnet50</td>\n",
       "    </tr>\n",
       "  </tbody>\n",
       "</table>\n",
       "</div>"
      ],
      "text/plain": [
       "         size  max_val_accuracy versioned_block_type\n",
       "15  250244517          0.990582             xception\n",
       "28  250247885          0.988870             xception\n",
       "17  250244992          0.987158             xception\n",
       "41  250244517          0.986301             xception\n",
       "33  262040997          0.985445             xception\n",
       "13  250244517          0.984589             xception\n",
       "39  262041014          0.983733             xception\n",
       "43  262040997          0.982877             xception\n",
       "14  250244517          0.982877             xception\n",
       "31  250244517          0.982021             xception\n",
       "32  250244534          0.982021             xception\n",
       "6   282998949          0.981164             resnet50\n",
       "24  250244517          0.976884             xception\n",
       "12  282998966          0.976027             resnet50\n",
       "38  511195291          0.974315         resnet101_v2\n",
       "16  282766313          0.974315          resnet50_v2\n",
       "25  250244517          0.974315             xception\n",
       "9   282998949          0.973459             resnet50\n",
       "19  250244534          0.972603             xception\n",
       "40  250244517          0.972603             xception\n",
       "22  250244517          0.972603             xception\n",
       "2   282998949          0.972603             resnet50\n",
       "5   282998949          0.970034             resnet50\n",
       "29  250244534          0.970034             xception\n",
       "37  250245146          0.968322             xception\n",
       "36  250244976          0.968322             xception\n",
       "0   282998949          0.968322             resnet50\n",
       "46  262041014          0.966610             xception\n",
       "10  282998949          0.966610             resnet50\n",
       "7   282999425          0.964897             resnet50\n",
       "23     345690          0.964041              vanilla\n",
       "21  250244686          0.963185             xception\n",
       "27   83569257          0.960616             xception\n",
       "45  170982810          0.960616            resnet101\n",
       "34  250244534          0.957192             xception\n",
       "42  282998949          0.954623             resnet50\n",
       "44  250244994          0.948630             xception\n",
       "26  250244670          0.948630             xception\n",
       "4   282999103          0.946918             resnet50\n",
       "47  170682311          0.930651         resnet101_v2\n",
       "30   83733806          0.928938             xception\n",
       "8    94650008          0.923801             resnet50\n",
       "18  250244840          0.922089             xception\n",
       "3    94650008          0.919521             resnet50\n",
       "35  250244823          0.918664             xception\n",
       "11   94485459          0.903253             resnet50\n",
       "20   83733806          0.881849             xception\n",
       "1   282998949          0.670377             resnet50"
      ]
     },
     "metadata": {},
     "output_type": "display_data"
    }
   ],
   "source": [
    "def versioned_blocktype(row):\n",
    "    \"\"\"If a block_type has a (resnet) version, return the version, otherwise the block_type\"\"\"\n",
    "    versioned = row['block_type']\n",
    "    if 'image_block_1/res_net_block_1/version' in row.keys() and row['image_block_1/res_net_block_1/version']:\n",
    "        versioned = row['image_block_1/res_net_block_1/version']\n",
    "    return versioned\n",
    "\n",
    "df = aview.dataframe_trials()\n",
    "if 'image_block_1/res_net_block_1/version' in df.columns:\n",
    "    df['versioned_block_type'] = df.apply(lambda x: versioned_blocktype(x), axis=1)\n",
    "    display(df[['size', 'max_val_accuracy', 'versioned_block_type']])"
   ]
  },
  {
   "cell_type": "code",
   "execution_count": null,
   "metadata": {},
   "outputs": [],
   "source": []
  },
  {
   "cell_type": "markdown",
   "metadata": {},
   "source": [
    "## Plot trials over time\n",
    "\n",
    "Have you ever wondered in what sequence AutoKeras generated its models to be tested? Let's see!"
   ]
  },
  {
   "cell_type": "code",
   "execution_count": 12,
   "metadata": {},
   "outputs": [
    {
     "data": {
      "image/png": "[encoded data removed]",
      "text/plain": [
       "<Figure size 432x288 with 1 Axes>"
      ]
     },
     "metadata": {
      "needs_background": "light"
     },
     "output_type": "display_data"
    }
   ],
   "source": [
    "aview.plot_trials_over_time()"
   ]
  },
  {
   "cell_type": "markdown",
   "metadata": {},
   "source": [
    "Note that the highest accuracy score, for an `xception` architecture, was achieved very early in the run."
   ]
  },
  {
   "cell_type": "markdown",
   "metadata": {},
   "source": [
    "## Epochs and result\n",
    "\n",
    "Can we tell if our selected number of epochs was reasonable? We can just created a histogram for during what epoch the best accuracy was achieved during a trial.\n",
    "\n",
    "If the highests counts are at the beginning or in the middle, additional training epochs don't seem to have a positive effect. But if the highest counts are at or near the end of the epochs, then it is likely that longer training leads to better results."
   ]
  },
  {
   "cell_type": "code",
   "execution_count": 13,
   "metadata": {},
   "outputs": [
    {
     "data": {
      "text/plain": [
       "array([[<matplotlib.axes._subplots.AxesSubplot object at 0x7f3a1127c130>]],\n",
       "      dtype=object)"
      ]
     },
     "execution_count": 13,
     "metadata": {},
     "output_type": "execute_result"
    },
    {
     "data": {
      "image/png": "[encoded data removed]",
      "text/plain": [
       "<Figure size 432x288 with 1 Axes>"
      ]
     },
     "metadata": {
      "needs_background": "light"
     },
     "output_type": "display_data"
    }
   ],
   "source": [
    "aview.plot_best_step()"
   ]
  },
  {
   "cell_type": "markdown",
   "metadata": {},
   "source": [
    "## Trial progress\n",
    "\n",
    "We can see the validation accuracy per epcoh for a trial by calling \n",
    "\n",
    "`aview.plot_trial_run(trial_id=[my trial id])`\n",
    "\n",
    "Let's just take whatever happens to be the first read in trial."
   ]
  },
  {
   "cell_type": "code",
   "execution_count": 14,
   "metadata": {},
   "outputs": [
    {
     "data": {
      "text/html": [
       "<ul><li>Trial id: 0d2d64dc465f11075b2f22b81dd9d704</li><li>Architecture: resnet</li><li>max val accuracy: 0.9683219194412231</li></ul>"
      ],
      "text/plain": [
       "<IPython.core.display.HTML object>"
      ]
     },
     "metadata": {},
     "output_type": "display_data"
    },
    {
     "data": {
      "image/png": "[encoded data removed]",
      "text/plain": [
       "<Figure size 432x288 with 1 Axes>"
      ]
     },
     "metadata": {
      "needs_background": "light"
     },
     "output_type": "display_data"
    }
   ],
   "source": [
    "trial_id = list(aview.analyzer._trials.keys())[0] # just take the first of the read in trials\n",
    "aview.plot_trial_run(trial_id=trial_id)"
   ]
  },
  {
   "cell_type": "markdown",
   "metadata": {},
   "source": [
    "## Browse through trials\n",
    "\n",
    "There are better tools available than this, but here we still have a possibility to see how the validation accuracy develops over periods. Just press &lt;Shift-Enter&gt; to see the next trial."
   ]
  },
  {
   "cell_type": "code",
   "execution_count": 15,
   "metadata": {},
   "outputs": [
    {
     "data": {
      "text/html": [
       "<ul><li>Trial id: 2ebfe918d774cafd90ec8601d7431895</li><li>Architecture: xception</li><li>max val accuracy: 0.9905821681022644</li></ul>"
      ],
      "text/plain": [
       "<IPython.core.display.HTML object>"
      ]
     },
     "metadata": {},
     "output_type": "display_data"
    },
    {
     "data": {
      "image/png": "[encoded data removed]",
      "text/plain": [
       "<Figure size 432x288 with 1 Axes>"
      ]
     },
     "metadata": {
      "needs_background": "light"
     },
     "output_type": "display_data"
    }
   ],
   "source": [
    "aview.plot_trial_run(auto_trial=True)"
   ]
  },
  {
   "cell_type": "markdown",
   "metadata": {},
   "source": [
    "## Last words\n",
    "\n",
    "Any questions, comments, reports? You can contact me at cees.roele@gmail.com."
   ]
  }
 ],
 "metadata": {
  "kernelspec": {
   "display_name": "Python 3",
   "language": "python",
   "name": "python3"
  },
  "language_info": {
   "codemirror_mode": {
    "name": "ipython",
    "version": 3
   },
   "file_extension": ".py",
   "mimetype": "text/x-python",
   "name": "python",
   "nbconvert_exporter": "python",
   "pygments_lexer": "ipython3",
   "version": "3.8.2"
  }
 },
 "nbformat": 4,
 "nbformat_minor": 4
}
